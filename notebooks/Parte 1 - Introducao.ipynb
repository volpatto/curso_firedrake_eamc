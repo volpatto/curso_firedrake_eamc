{
 "cells": [
  {
   "cell_type": "markdown",
   "id": "5a3929fc",
   "metadata": {
    "slideshow": {
     "slide_type": "slide"
    }
   },
   "source": [
    "# Introdução ao Firedrake  \n",
    "\n",
    "&nbsp;\n",
    "\n",
    "&nbsp;\n",
    "\n",
    "Ministrante: **Diego Tavares Volpatto (LNCC/ESSS)**\n",
    "&nbsp;\n",
    "\n",
    "Encontro Acadêmico de Modelagem Computacional - XV EAMC (2022)"
   ]
  },
  {
   "cell_type": "markdown",
   "id": "d715134e",
   "metadata": {},
   "source": [
    "<tr>\n",
    "<td> <img src=\"../img/logo_eamc.png\" alt=\"Drawing\" style=\"width: 250px;\"/> </td>\n",
    "<td> <img src=\"../img/banner.png\" alt=\"Drawing\" style=\"width: 600px;\"/> </td>\n",
    "</tr>"
   ]
  },
  {
   "cell_type": "markdown",
   "id": "7548803e",
   "metadata": {
    "slideshow": {
     "slide_type": "slide"
    }
   },
   "source": [
    "# Prelúdio"
   ]
  },
  {
   "cell_type": "markdown",
   "id": "aadbaf71",
   "metadata": {
    "slideshow": {
     "slide_type": "subslide"
    }
   },
   "source": [
    "## O que veremos nesse curso?"
   ]
  },
  {
   "cell_type": "markdown",
   "id": "53268cc7",
   "metadata": {
    "slideshow": {
     "slide_type": "fragment"
    }
   },
   "source": [
    "Uma visão prática do Firedrake, passando por um conjunto de tópicos populares no solucionamento numérico de problemas de EDP usando FEM:"
   ]
  },
  {
   "cell_type": "markdown",
   "id": "5c8457e9",
   "metadata": {
    "slideshow": {
     "slide_type": "fragment"
    }
   },
   "source": [
    "1. Introdução ao Firedrake\n",
    "\n",
    "2. Introdução prática ao Método de Elementos Finitos usando o Firedrake\n",
    "\n",
    "3. Formulações de Elementos Finitos Mistas\n",
    "\n",
    "4. Problemas Transientes"
   ]
  },
  {
   "cell_type": "markdown",
   "id": "dd79af0d",
   "metadata": {
    "slideshow": {
     "slide_type": "subslide"
    }
   },
   "source": [
    "## O que esse curso não é?"
   ]
  },
  {
   "cell_type": "markdown",
   "id": "dc27c532",
   "metadata": {
    "slideshow": {
     "slide_type": "fragment"
    }
   },
   "source": [
    "* Definitivamente: não é um curso (teórico) de Elementos Finitos!\n",
    "* Não é um treinamento extensivo para *desenvolver* o Firedrake\n",
    "* Não é um curso de Python, nem de visualização em Python"
   ]
  },
  {
   "cell_type": "markdown",
   "id": "39136336",
   "metadata": {
    "slideshow": {
     "slide_type": "subslide"
    }
   },
   "source": [
    "## Eu preciso de VOCÊ nesse curso!"
   ]
  },
  {
   "cell_type": "markdown",
   "id": "bee89787",
   "metadata": {
    "slideshow": {
     "slide_type": "fragment"
    }
   },
   "source": [
    "* Esse é um curso prático, isso quer dizer que é importante que você reproduza tudo o que eu te mostrar.\n",
    "* Tente alterar os códigos, inspecionar, modificar, etc.\n",
    "* A ideia é colocar a mão na massa!"
   ]
  },
  {
   "cell_type": "markdown",
   "id": "83df1e14",
   "metadata": {
    "slideshow": {
     "slide_type": "fragment"
    }
   },
   "source": [
    "\\textbf{Muito importante}: Eu não vou saber das suas dificuldades se você não me falar! Por favor, entre em contato comigo pelo Discord do curso ou me mande e-mail caso tenha dúvidas."
   ]
  },
  {
   "cell_type": "markdown",
   "id": "50c3bcca",
   "metadata": {
    "slideshow": {
     "slide_type": "slide"
    }
   },
   "source": [
    "# O que é o Firedrake?"
   ]
  },
  {
   "cell_type": "markdown",
   "id": "db8f69df",
   "metadata": {
    "slideshow": {
     "slide_type": "subslide"
    }
   },
   "source": [
    "## O que é o Firedrake?\n",
    "\n",
    "Em resumo:\n",
    "\n",
    "* Um sistema para automático para soluções numéricas de EDPs com FEM com alto grau de abstração\n",
    "* É como se fosse um *framework* para FEM\n",
    "* Possibilita a implementação e prototipação rápida de formulações de FEM\n",
    "* É multi-linguagem: Usado a partir do Python, com partes internas escritas em C\n",
    "* As partes em C são resultados de tecnologias modernas de geração automática de código"
   ]
  },
  {
   "cell_type": "markdown",
   "id": "7cb17603",
   "metadata": {
    "slideshow": {
     "slide_type": "fragment"
    }
   },
   "source": [
    "Vamos ver isso um pouco mais a fundo..."
   ]
  },
  {
   "cell_type": "markdown",
   "id": "a3bc5f96",
   "metadata": {
    "slideshow": {
     "slide_type": "subslide"
    }
   },
   "source": [
    "## O que é o Firedrake?\n",
    "\n",
    "* O Firedrake é capaz de pegar um código escrito com a [Unified Form Language (UFL)](https://fenics.readthedocs.io/projects/ufl/en/latest/), uma linguagem de domínio específico (DSL) para formulações de FEM.\n",
    "\n",
    "* Com isso, são gerados objetos em C com a [PETSc](https://petsc.org/release/).\n",
    "\n",
    "* O gerenciamento dos procedimentos de escrita, manipulação, mapeamento e etc são feitos por meio de um framework de gerenciamento de estrutura de dados em malhas (não-estruturadas) chamado [PyOP2](https://github.com/OP2/PyOP2).\n",
    "\n",
    "* O sistemas discretizados resultantes do FEM - lineares ou não-lineares - são solucionados utilizando a própria PETSc, que contém diversos métodos iterativos, não-lineares e diretos (com interfaces para [MUMPS](http://mumps.enseeiht.fr/) e [HYPRE](https://computing.llnl.gov/projects/hypre-scalable-linear-solvers-multigrid-methods), por exemplo)."
   ]
  },
  {
   "cell_type": "markdown",
   "id": "fda2392a",
   "metadata": {
    "slideshow": {
     "slide_type": "fragment"
    }
   },
   "source": [
    "Sem sombra de dúvidas, é uma ferramenta poderosa, porém de **elevada complexidade**."
   ]
  },
  {
   "cell_type": "markdown",
   "id": "4c689355",
   "metadata": {
    "slideshow": {
     "slide_type": "subslide"
    }
   },
   "source": [
    "## O que é o Firedrake?"
   ]
  },
  {
   "cell_type": "markdown",
   "id": "0d0ce243",
   "metadata": {},
   "source": [
    "<center>\n",
    "    \n",
    "<img src=\"../img/firedrake.png\" alt=\"Drawing\" style=\"width: 1100px;\"/>\n",
    "</center>"
   ]
  },
  {
   "cell_type": "markdown",
   "id": "9c657ff4",
   "metadata": {
    "slideshow": {
     "slide_type": "subslide"
    }
   },
   "source": [
    "\n",
    "## O que é o Firedrake?\n",
    "\n",
    "Complicado, não é? Calma..."
   ]
  },
  {
   "cell_type": "markdown",
   "id": "231f0a7a",
   "metadata": {
    "slideshow": {
     "slide_type": "fragment"
    }
   },
   "source": [
    "* Nesse curso, você não precisa se preocupar com os detalhes internos!\n",
    "* Vamos explorar a ferramenta do ponto de vista do usuário especialista que deseja experimentar suas próprias formulações de FEM."
   ]
  },
  {
   "cell_type": "markdown",
   "id": "9bd7f24e",
   "metadata": {
    "slideshow": {
     "slide_type": "subslide"
    }
   },
   "source": [
    "## Nesse sentido, o que você pode fazer com o Firedrake?\n",
    "\n",
    "* Escrever formulações de FEM quase como escreve \"no papel\"\n",
    "* Acoplamento direto e fácil com a `PETSc`\n",
    "* Malhas não-estruturadas de retas, triângulos, quadriláteros, tetraedos e hexaedros\n",
    "* Construção hierárquica de malhas, multigrid geométrico, etc\n",
    "* Elementos de Alta Ordem (praticamente arbitrariamente)\n",
    "* Criação de pré-condicionadores\n",
    "* Condensação Estática e Hibridização"
   ]
  },
  {
   "cell_type": "markdown",
   "id": "65c32cc0",
   "metadata": {
    "slideshow": {
     "slide_type": "slide"
    }
   },
   "source": [
    "# Instalação"
   ]
  },
  {
   "cell_type": "markdown",
   "id": "11bf1def",
   "metadata": {
    "slideshow": {
     "slide_type": "subslide"
    }
   },
   "source": [
    "## Visão geral da instalação\n",
    "\n",
    "* O procedimento de instalação é relativamente simples\n",
    "* Consiste em baixar um script Python e executar\n",
    "* Apesar de simples, pode ser bastante demorado e acontecer vários erros\n",
    "* Se certifique de ter todos os pré-requisitos instalados em seu sistema\n",
    "* A instalação é descrita no [site do Firedrake](https://www.firedrakeproject.org/download.html)"
   ]
  },
  {
   "cell_type": "markdown",
   "id": "b4ec6d15",
   "metadata": {
    "slideshow": {
     "slide_type": "subslide"
    }
   },
   "source": [
    "## Sistemas operacionais compatíveis\n",
    "\n",
    "* Potencialmente todos os \"Unix-like\" são compatíveis com a instalação do Firedrake.\n",
    "* A instalação em Windows é possível por meio do [Windows Subsystem for Linux (WSL)](https://docs.microsoft.com/pt-br/windows/wsl/install). Em especial, o WSL2.\n",
    "* No Ubuntu 20.04, há suporte com o `apt` para instalação das dependências do Firedrake. (Minha recomendação)\n",
    "* Caso opte por Windows, recomendo: WSL2 + Ubuntu 20.04.\n",
    "* Para distro GNU/Linux não-Ubuntu: instale sem com a opção `--no-package-manager`"
   ]
  },
  {
   "cell_type": "markdown",
   "id": "a44d8531",
   "metadata": {
    "slideshow": {
     "slide_type": "subslide"
    }
   },
   "source": [
    "## Instalação em GNU/Linux\n",
    "\n",
    "1. Baixe o script para sua máquina:\n",
    "```shell\n",
    "curl -O https://raw.githubusercontent.com/firedrakeproject/firedrake/master/scripts/firedrake-install\n",
    "```\n",
    "\n",
    "2. Execute o script (abaixo seguem minhas recomendações):\n",
    "  * Ubuntu:\n",
    "  ```shell\n",
    "  python3 firedrake-install --disable-ssh --pip-install scipy\n",
    "  ```\n",
    "  * Em outros SO:\n",
    "  ```shell\n",
    "  python3 firedrake-install --no-package-manager --disable-ssh --pip-install scipy\n",
    "  ```"
   ]
  },
  {
   "cell_type": "markdown",
   "id": "6cf8fcb8",
   "metadata": {
    "slideshow": {
     "slide_type": "subslide"
    }
   },
   "source": [
    "## Instalação em GNU/Linux\n",
    "\n",
    "3. Ative o ambiente virtual Python onde o Firedrake foi instalado:\n",
    "```shell\n",
    "source firedrake/bin/activate\n",
    "```\n",
    "\n",
    "4. Com o ambiente ativado, verifique se a instalação foi feita corretamente:\n",
    "```shell\n",
    "cd $VIRTUAL_ENV/src/firedrake ;\n",
    "pytest tests/regression/ -k \"poisson_strong or stokes_mini or dg_advection\"\n",
    "```"
   ]
  },
  {
   "cell_type": "markdown",
   "id": "1b1546d5",
   "metadata": {
    "slideshow": {
     "slide_type": "subslide"
    }
   },
   "source": [
    "## Instalação de dependências adicionais\n",
    "\n",
    "Dentro do repositório desse curso consta um arquivo `requirements.txt` contendo as dependências adicionais necessárias para reproduzir tudo.\n",
    "\n",
    "Após a instalação, com o ambiente do `firedrake` ativado, execute:\n",
    "```shell\n",
    "pip install -r requirements.txt\n",
    "```"
   ]
  },
  {
   "cell_type": "markdown",
   "id": "1fdf6b54",
   "metadata": {
    "slideshow": {
     "slide_type": "slide"
    }
   },
   "source": [
    "# Formas de utilização"
   ]
  },
  {
   "cell_type": "markdown",
   "id": "30acaf5c",
   "metadata": {
    "slideshow": {
     "slide_type": "subslide"
    }
   },
   "source": [
    "## Acompanhando o curso\n",
    "\n",
    "* Para acompanhar o curso, recomendo a utilização de [jupyter notebooks](https://jupyter.org/)\n",
    "* Caso tenha instalado as dependências adicionais, já estará tudo certo no seu ambiente\n",
    "* Também é possível executar os códigos do Firedrake que serão mostrados aqui no [Google Colab](https://research.google.com/colaboratory/) (direto no seu navegador, sem instalações, requer conta Google)\n",
    "* Para usar no Colab, vá no site do incrível projeto [FEM on Colab](https://fem-on-colab.github.io/packages.html), veja as instruções para o `Firedrake` (com \"Real mode\")"
   ]
  },
  {
   "cell_type": "markdown",
   "id": "78ac2552",
   "metadata": {
    "slideshow": {
     "slide_type": "slide"
    }
   },
   "source": [
    "# Recomendações finais"
   ]
  },
  {
   "cell_type": "markdown",
   "id": "84e7dc1d",
   "metadata": {
    "slideshow": {
     "slide_type": "subslide"
    }
   },
   "source": [
    "## Recomendações finais\n",
    "\n",
    "* A [documentação do Firedrake](https://www.firedrakeproject.org/documentation.html) é sua amiga! Inclusive tem vários exemplos.\n",
    "* A comunidade do Firedrake é ampla (e crescente) e bastante ativa. Os desenvolvedores são acessíveis e podem sanar suas dúvidas mais profundas. [Verifique aqui](https://www.firedrakeproject.org/contact.html) formas de entrar em contato!\n",
    "* Se você tem a opção de destravar um problema em 5 minutos (fazendo uma pergunta) em vez de 5 dias tentando compreender algo complexo no momento, opte por ter a resposta em 5 minutos! Estou aqui para **tentar** te ajudar :)\n",
    "\n",
    "**Meu email**: dtvolpatto@gmail.com"
   ]
  }
 ],
 "metadata": {
  "celltoolbar": "Slideshow",
  "jupytext": {
   "formats": "ipynb,auto:light"
  },
  "kernelspec": {
   "display_name": "Python 3 (ipykernel)",
   "language": "python",
   "name": "python3"
  },
  "language_info": {
   "codemirror_mode": {
    "name": "ipython",
    "version": 3
   },
   "file_extension": ".py",
   "mimetype": "text/x-python",
   "name": "python",
   "nbconvert_exporter": "python",
   "pygments_lexer": "ipython3",
   "version": "3.8.10"
  },
  "latex_envs": {
   "LaTeX_envs_menu_present": true,
   "autoclose": false,
   "autocomplete": true,
   "bibliofile": "biblio.bib",
   "cite_by": "apalike",
   "current_citInitial": 1,
   "eqLabelWithNumbers": true,
   "eqNumInitial": 1,
   "hotkeys": {
    "equation": "Ctrl-E",
    "itemize": "Ctrl-I"
   },
   "labels_anchors": false,
   "latex_user_defs": false,
   "report_style_numbering": false,
   "user_envs_cfg": false
  },
  "rise": {
   "enable_chalkboard": true
  },
  "varInspector": {
   "cols": {
    "lenName": 16,
    "lenType": 16,
    "lenVar": 40
   },
   "kernels_config": {
    "python": {
     "delete_cmd_postfix": "",
     "delete_cmd_prefix": "del ",
     "library": "var_list.py",
     "varRefreshCmd": "print(var_dic_list())"
    },
    "r": {
     "delete_cmd_postfix": ") ",
     "delete_cmd_prefix": "rm(",
     "library": "var_list.r",
     "varRefreshCmd": "cat(var_dic_list()) "
    }
   },
   "types_to_exclude": [
    "module",
    "function",
    "builtin_function_or_method",
    "instance",
    "_Feature"
   ],
   "window_display": false
  }
 },
 "nbformat": 4,
 "nbformat_minor": 5
}
