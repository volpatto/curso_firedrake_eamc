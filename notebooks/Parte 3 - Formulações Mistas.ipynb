{
 "cells": [
  {
   "cell_type": "markdown",
   "id": "f0d9dc91",
   "metadata": {
    "slideshow": {
     "slide_type": "slide"
    }
   },
   "source": [
    "# Introdução ao Firedrake  \n",
    "\n",
    "&nbsp;\n",
    "\n",
    "## Parte 3: Formulações Mistas\n",
    "\n",
    "&nbsp;\n",
    "\n",
    "Ministrante: **Diego Tavares Volpatto (LNCC/ESSS)**\n",
    "&nbsp;\n",
    "\n",
    "Encontro Acadêmico de Modelagem Computacional - XV EAMC (2022)"
   ]
  },
  {
   "cell_type": "markdown",
   "id": "c6c7ee36",
   "metadata": {},
   "source": [
    "<tr>\n",
    "<td> <img src=\"../img/logo_eamc.png\" alt=\"Drawing\" style=\"width: 200px;\"/> </td>\n",
    "<td> <img src=\"../img/banner.png\" alt=\"Drawing\" style=\"width: 550px;\"/> </td>\n",
    "</tr>"
   ]
  },
  {
   "cell_type": "markdown",
   "id": "f65cd18b",
   "metadata": {
    "slideshow": {
     "slide_type": "subslide"
    }
   },
   "source": [
    "## Sumário\n",
    "\n",
    "* Exemplo de como solucionar o problema de Poisson reescrito na forma mista\n",
    "* Problemas com mais de uma incógnita"
   ]
  },
  {
   "cell_type": "markdown",
   "id": "0fab6702",
   "metadata": {
    "slideshow": {
     "slide_type": "slide"
    }
   },
   "source": [
    "# Problema de Poisson: Formulação Mista"
   ]
  },
  {
   "cell_type": "markdown",
   "id": "49df7f05",
   "metadata": {
    "slideshow": {
     "slide_type": "subslide"
    }
   },
   "source": [
    "## Relembrando o problema de Poisson\n",
    "\n",
    "Encontrar $p \\in C^2(\\Omega)$ tal que:\n",
    "\n",
    "\\begin{equation}\n",
    "\\begin{cases}\n",
    "  \\nabla \\cdot (-K \\nabla p) = f & \\text{em } \\Omega \\\\[0.5em]\n",
    "  p = p_D & \\text{sobre } \\Gamma_D \\\\[0.5em]\n",
    "  (-K \\nabla p)\\cdot \\mathbf{n} = g & \\text{sobre } \\Gamma_N\n",
    "\\end{cases}       \n",
    "\\end{equation}\n",
    "\n",
    "Podemos reescrever o problema equivalente de 1a ordem definindo o fluxo:\n",
    "\n",
    "\\begin{equation}\n",
    "\\mathbf{u} := - K\\nabla p\n",
    "\\end{equation}\n",
    "\n",
    "E então, substituindo no problema original ($A \\equiv K^{-1}$):\n",
    "\n",
    "\\begin{equation}\n",
    "\\begin{cases}\n",
    "  A \\mathbf{u} + \\nabla p = \\mathbf{0} & \\text{em } \\Omega \\\\[0.5em]\n",
    "  \\nabla \\cdot \\mathbf{u} = f & \\text{em } \\Omega \\\\[0.5em]\n",
    "  p = p_D & \\text{sobre } \\Gamma_D \\\\[0.5em]\n",
    "  \\mathbf{u} \\cdot \\mathbf{n} = g & \\text{sobre } \\Gamma_N\n",
    "\\end{cases}       \n",
    "\\end{equation}"
   ]
  },
  {
   "cell_type": "markdown",
   "id": "775f7f3e",
   "metadata": {
    "slideshow": {
     "slide_type": "subslide"
    }
   },
   "source": [
    "## Formulação mista\n",
    "\n",
    "Portanto, agora temos:\n",
    "\n",
    "\\begin{equation}\n",
    "\\begin{cases}\n",
    "  A\\mathbf{u} + \\nabla p = \\mathbf{0} & \\text{em } \\Omega \\\\[0.5em]\n",
    "  \\nabla \\cdot \\mathbf{u} = f & \\text{em } \\Omega \\\\[0.5em]\n",
    "  p = p_D & \\text{sobre } \\Gamma_D \\\\[0.5em]\n",
    "  \\mathbf{u} \\cdot \\mathbf{n} = g & \\text{sobre } \\Gamma_N\n",
    "\\end{cases}       \n",
    "\\end{equation}\n",
    "\n",
    "**Note**: Agora o problema tem duas incógnitas (por isso é chamado de misto):\n",
    "\n",
    "* Variável primária: $p$\n",
    "* Fluxo associado: $\\mathbf{u}$"
   ]
  },
  {
   "cell_type": "markdown",
   "id": "7e926d1c",
   "metadata": {
    "slideshow": {
     "slide_type": "subslide"
    }
   },
   "source": [
    "## Formulação variacional\n",
    "\n",
    "O procedimento é o mesmo, porém agora temos dois pares de variáveis {candidata, teste}:\n",
    "\n",
    "* $\\{\\mathbf{u}, \\mathbf{v}\\}$ $\\to$ para a eq. do fluxo\n",
    "* $\\{p, q\\}$ $\\to$ para a eq. de conservação\n",
    "\n",
    "De forma que, multiplicando pelas respectivas funções-testes, podemos obter:\n",
    "\n",
    "\\begin{equation}\n",
    "\\begin{cases}\n",
    "  (A\\mathbf{u}, \\mathbf{v})_\\Omega - (p, \\nabla \\cdot \\mathbf{v})_\\Omega = -\\langle p_D, \\mathbf{v} \\cdot \\mathbf{n} \\rangle_{\\Gamma_D} & \\text{em } \\Omega \\\\[0.5em]\n",
    "  -(\\nabla \\cdot \\mathbf{u}, q)_\\Omega = -(f, q)_\\Omega & \\text{em } \\Omega\n",
    "\\end{cases}       \n",
    "\\end{equation}\n",
    "\n",
    "Evidentemente, $\\mathbf{u}, \\mathbf{v} \\in H(\\text{div}; \\Omega)$ e $p, q \\in L_2(\\Omega)$."
   ]
  },
  {
   "cell_type": "markdown",
   "id": "ef450e19",
   "metadata": {
    "slideshow": {
     "slide_type": "subslide"
    }
   },
   "source": [
    "## Estrutura algébrica\n",
    "\n",
    "O problema variacional resultante então tem a seguinte estrutura algébrica:\n",
    "\n",
    "\\begin{equation}\n",
    "\\mathbf{M} \\mathbf{x} = \\mathbf{f}\n",
    "\\end{equation}\n",
    "\n",
    "com\n",
    "\n",
    "\\begin{equation}\\label{eq:system_terms}\n",
    "\\mathbf{M} =\n",
    "    \\begin{bmatrix}\n",
    "        \\mathbf{A} & \\mathbf{B}^t \\\\\n",
    "        \\mathbf{B} & \\mathbf{0}\n",
    "    \\end{bmatrix};\n",
    "    \\quad\n",
    "\\mathbf{x} =\n",
    "    \\begin{bmatrix}\n",
    "        \\mathbf{u} \\\\\n",
    "        \\mathbf{p}\n",
    "    \\end{bmatrix};\n",
    "\\quad\n",
    "\\mathbf{f} =\n",
    "    \\begin{bmatrix}\n",
    "        \\mathbf{f}_u \\\\\n",
    "        \\mathbf{f}_p\n",
    "    \\end{bmatrix}\n",
    "\\end{equation}\n",
    "\n",
    "Dessa forma, fica transparente a característica de ser um **problema de ponto de cela**.\n",
    "\n",
    "Devido a estrutura e algumas condições algébricas de solvabilidade (condição de *inf-sup*, elipsidade, etc), as soluções devem pertencer a espaços que satisfaçam certas condições de compatibilidade."
   ]
  },
  {
   "cell_type": "markdown",
   "id": "38f69e11",
   "metadata": {
    "slideshow": {
     "slide_type": "subslide"
    }
   },
   "source": [
    "## Espaços de Funções\n",
    "\n",
    "Devido a estrutura e algumas condições algébricas de solvabilidade (condição de *inf-sup*, elipsidade, etc), as soluções devem pertencer a espaços que satisfaçam certas condições de compatibilidade.\n",
    "\n",
    "Algumas escolhas clássicas possíveis para pares espaços de dimensão finita que aproximam $H(\\text{div})$ e espaços para a variável primária que satisfação a condição de *inf-sup* são:\n",
    "\n",
    "* Raviart-Thomas (com grau $k + 1$) e $L^2(\\Omega)$ (polinômios descontínuos com grau até $k$): RT$_{k+1}$-$\\mathbb{P}_k$\n",
    "* De forma similar, Brezzi-Douglas-Marini (com grau $k + 1$) e $L^2(\\Omega)$ (polinômios descontínuos com grau até $k$): BDM$_{k+1}$-$\\mathbb{P}_k$\n",
    "\n",
    "**OBSERVAÇÃO**: Em teoria, o grau do espaço de RT não é apresentado como $k+1$. Aqui fazemos assim devido a uma convenção do Firedrake/FEniCS: é o grau do menor polinômio que gera o espaço."
   ]
  },
  {
   "cell_type": "markdown",
   "id": "0bf7ef9e",
   "metadata": {
    "slideshow": {
     "slide_type": "slide"
    }
   },
   "source": [
    "# Implementação"
   ]
  },
  {
   "cell_type": "markdown",
   "id": "adee4fb5",
   "metadata": {
    "slideshow": {
     "slide_type": "subslide"
    }
   },
   "source": [
    "## Considerações\n",
    "\n",
    "Após essa brevíssima revisão de conceitos-chave para a implementação, vamos proceder como de costume.\n",
    "\n",
    "Para fins didáticos, vamos considerar o par com RT de menor ordem: $k = 0$. Portanto, a variável primária é contante por partes."
   ]
  },
  {
   "cell_type": "markdown",
   "id": "3e76845e",
   "metadata": {
    "slideshow": {
     "slide_type": "subslide"
    }
   },
   "source": [
    "## Importando o Firedrake\n",
    "\n",
    "Como temos feito ao longo do curso, vamos iniciar importando tudo que for necessário:"
   ]
  },
  {
   "cell_type": "code",
   "execution_count": 1,
   "id": "3c879838",
   "metadata": {},
   "outputs": [],
   "source": [
    "import os\n",
    "os.environ[\"OMP_NUM_THREADS\"] = \"1\"  # necessário para o Firedrake\n",
    "\n",
    "from firedrake import *\n",
    "import matplotlib.pyplot as plt"
   ]
  },
  {
   "cell_type": "markdown",
   "id": "8cc7153b",
   "metadata": {
    "slideshow": {
     "slide_type": "subslide"
    }
   },
   "source": [
    "## Definindo a malha\n",
    "\n",
    "Para demonstração, vamos considerar uma malha 2D (quadrado unitário):"
   ]
  },
  {
   "cell_type": "code",
   "execution_count": 2,
   "id": "9b1bd045",
   "metadata": {},
   "outputs": [],
   "source": [
    "N = 10\n",
    "use_quads = False\n",
    "mesh = UnitSquareMesh(N, N, quadrilateral=use_quads)"
   ]
  },
  {
   "cell_type": "markdown",
   "id": "6af0a48f",
   "metadata": {
    "slideshow": {
     "slide_type": "subslide"
    }
   },
   "source": [
    "## Declarando os espaços\n",
    "\n",
    "Agora vamos declarar os espaços de Raviart-Thomas:"
   ]
  },
  {
   "cell_type": "code",
   "execution_count": 3,
   "id": "a2509e08",
   "metadata": {},
   "outputs": [],
   "source": [
    "if use_quads:\n",
    "    hdiv_family = 'RTCF'\n",
    "    pressure_family = 'DQ'\n",
    "else:\n",
    "    hdiv_family = 'RT'\n",
    "    pressure_family = 'DG'\n",
    "\n",
    "degree = 0\n",
    "# Para tirar os warnings\n",
    "cell_type = triangle\n",
    "RTk = FiniteElement(\"Raviart-Thomas\", cell_type, degree + 1, variant=\"integral\")\n",
    "U = FunctionSpace(mesh, RTk)\n",
    "# U = FunctionSpace(mesh, hdiv_family, degree + 1)\n",
    "V = FunctionSpace(mesh, pressure_family, degree)\n",
    "W = U * V"
   ]
  },
  {
   "cell_type": "markdown",
   "id": "c9e882f4",
   "metadata": {},
   "source": [
    "Note que, nos problemas mistos, devemos buscar o par $\\{\\mathbf{u}_h, p_h\\} \\in \\boldsymbol{\\mathcal{U}}_h \\times \\mathcal{V}_h$."
   ]
  },
  {
   "cell_type": "markdown",
   "id": "ecbbd5c8",
   "metadata": {
    "slideshow": {
     "slide_type": "subslide"
    }
   },
   "source": [
    "## Declarando as funções\n",
    "\n",
    "Por estarmos em um espaço misto (ou seja, o problema é resolvido para mais de uma variável), definimos de forma ligeiramente diferente:"
   ]
  },
  {
   "cell_type": "code",
   "execution_count": 4,
   "id": "d48ec2cd",
   "metadata": {},
   "outputs": [],
   "source": [
    "u, p = TrialFunctions(W)\n",
    "v, q = TestFunctions(W)"
   ]
  },
  {
   "cell_type": "markdown",
   "id": "9554ce0b",
   "metadata": {},
   "source": [
    "Note os nomes das funções em plural! (isso pode ser error-prone)"
   ]
  },
  {
   "cell_type": "markdown",
   "id": "485fb218",
   "metadata": {
    "slideshow": {
     "slide_type": "subslide"
    }
   },
   "source": [
    "## Solução manufaturada\n",
    "\n",
    "Agora vamos definir a solução manufaturada e obter o termo de fonte correspondente."
   ]
  },
  {
   "cell_type": "code",
   "execution_count": 5,
   "id": "3691a1ef",
   "metadata": {},
   "outputs": [],
   "source": [
    "x, y = SpatialCoordinate(mesh)\n",
    "\n",
    "# Solução exata para a variável primária\n",
    "p_exact = sin(2 * pi * x) * sin(2 * pi * y)\n",
    "exact_solution = Function(V).interpolate(p_exact)\n",
    "exact_solution.rename(\"Exact pressure\", \"label\")\n",
    "\n",
    "# Solução exata para o fluxo\n",
    "# Aqui usamos \"project\" pq p_exact vem de V\n",
    "u_exact = Function(U, name='Exact velocity').project(-grad(p_exact))\n",
    "\n",
    "# Termo-fonte\n",
    "f_expression = div(-grad(p_exact))\n",
    "f = Function(V).interpolate(f_expression)\n",
    "\n",
    "# Tensor de Poisson\n",
    "A = Constant(1)"
   ]
  },
  {
   "cell_type": "markdown",
   "id": "766e08aa",
   "metadata": {
    "slideshow": {
     "slide_type": "subslide"
    }
   },
   "source": [
    "## Condições de contorno\n",
    "\n",
    "No presente problema misto, a condição de Dirichlet é sobre a variável de fluxo! Vamos fixar a condição de contorno com a solução exata:"
   ]
  },
  {
   "cell_type": "code",
   "execution_count": 6,
   "id": "09329f52",
   "metadata": {},
   "outputs": [],
   "source": [
    "bcs = DirichletBC(W[0], u_exact, \"on_boundary\")"
   ]
  },
  {
   "cell_type": "markdown",
   "id": "723a6eba",
   "metadata": {},
   "source": [
    "Obs.: Nesse caso, não precisaríamos nem definir as CC, visto que não há movimento de corpo livre aqui."
   ]
  },
  {
   "cell_type": "markdown",
   "id": "f2de05e3",
   "metadata": {
    "slideshow": {
     "slide_type": "subslide"
    }
   },
   "source": [
    "## Formulação variacional\n",
    "\n",
    "Como de costume."
   ]
  },
  {
   "cell_type": "markdown",
   "id": "1798ba9d",
   "metadata": {
    "cell_style": "split",
    "slideshow": {
     "slide_type": "-"
    }
   },
   "source": [
    "### Forma fraca mista\n",
    "\n",
    "Recordando:\n",
    "\n",
    "\\begin{equation}\n",
    "\\begin{cases}\n",
    "  (A\\mathbf{u}, \\mathbf{v})_\\Omega - (p, \\nabla \\cdot \\mathbf{v})_\\Omega = -\\langle p_D, \\mathbf{v} \\cdot \\mathbf{n} \\rangle_{\\Gamma_D} & \\text{em } \\Omega \\\\[0.5em]\n",
    "  -(\\nabla \\cdot \\mathbf{u}, q)_\\Omega = -(f, q)_\\Omega & \\text{em } \\Omega\n",
    "\\end{cases}       \n",
    "\\end{equation}\n",
    "\n",
    "Forma abstrata:\n",
    "\n",
    "\\begin{equation}\n",
    "B(\\{\\mathbf{u}, p\\}; \\{\\mathbf{v}, q\\}) = L(\\mathbf{v}, q)\n",
    "\\end{equation}\n",
    "\n",
    "com\n",
    "\n",
    "\\begin{equation}\n",
    "B(\\{\\mathbf{u}, p\\}; \\{\\mathbf{v}, q\\}) := (A\\mathbf{u}, \\mathbf{v})_\\Omega - (p, \\nabla \\cdot \\mathbf{v})_\\Omega\n",
    "-(\\nabla \\cdot \\mathbf{u}, q)_\\Omega\n",
    "\\end{equation}\n",
    "\\begin{equation}\n",
    "L(\\mathbf{v}, q) := -(f, q)_\\Omega -\\langle p_D, \\mathbf{v} \\cdot \\mathbf{n} \\rangle_{\\Gamma_D}\n",
    "\\end{equation}"
   ]
  },
  {
   "cell_type": "code",
   "execution_count": 7,
   "id": "782ac16a",
   "metadata": {
    "cell_style": "split"
   },
   "outputs": [],
   "source": [
    "n = FacetNormal(mesh)  # Componente normal\n",
    "\n",
    "a = (dot(u, v) - div(v) * p + q * div(u)) * dx\n",
    "L = f * q * dx - dot(v, n) * exact_solution * ds"
   ]
  },
  {
   "cell_type": "markdown",
   "id": "342ea657",
   "metadata": {
    "slideshow": {
     "slide_type": "subslide"
    }
   },
   "source": [
    "## Problema Variacional e Solver\n",
    "\n",
    "Finalmente, montando e solucionando o problema:"
   ]
  },
  {
   "cell_type": "code",
   "execution_count": 8,
   "id": "3f6d3098",
   "metadata": {},
   "outputs": [
    {
     "name": "stdout",
     "output_type": "stream",
     "text": [
      "    Residual norms for firedrake_1_ solve.\n",
      "    0 KSP Residual norm 3.085744339680e+00 \n",
      "    1 KSP Residual norm 6.166859731481e-15 \n"
     ]
    }
   ],
   "source": [
    "solver_parameters = {\n",
    "    \"ksp_monitor\": None,\n",
    "    \"mat_type\": \"aij\",\n",
    "    \"ksp_type\": \"preonly\",\n",
    "    \"pc_type\": \"lu\",\n",
    "    \"pc_factor_mat_solver_type\": \"mumps\",\n",
    "}\n",
    "solution = Function(W)\n",
    "problem = LinearVariationalProblem(a, L, solution, bcs=[])\n",
    "solver = LinearVariationalSolver(problem, solver_parameters=solver_parameters)\n",
    "solver.solve()"
   ]
  },
  {
   "cell_type": "markdown",
   "id": "d4c6835e",
   "metadata": {
    "slideshow": {
     "slide_type": "subslide"
    }
   },
   "source": [
    "## Obtendo os Resultados\n",
    "\n",
    "Como estamos trabalhando em um problema misto, temos que recuperar a solução de cada variável:"
   ]
  },
  {
   "cell_type": "code",
   "execution_count": 9,
   "id": "8f400396",
   "metadata": {},
   "outputs": [],
   "source": [
    "u_h, p_h = solution.split()\n",
    "u_h.rename('Flux', 'label')\n",
    "p_h.rename('Pressure', 'label')"
   ]
  },
  {
   "cell_type": "markdown",
   "id": "f8fd6e14",
   "metadata": {
    "slideshow": {
     "slide_type": "subslide"
    }
   },
   "source": [
    "## Visualizando os resultados para o fluxo"
   ]
  },
  {
   "cell_type": "markdown",
   "id": "8aea70f3",
   "metadata": {
    "cell_style": "split"
   },
   "source": [
    "### Solução exata"
   ]
  },
  {
   "cell_type": "markdown",
   "id": "3d71dc58",
   "metadata": {
    "cell_style": "split"
   },
   "source": [
    "### Solução numérica"
   ]
  },
  {
   "cell_type": "code",
   "execution_count": 10,
   "id": "56ce42cc",
   "metadata": {
    "cell_style": "split"
   },
   "outputs": [
    {
     "data": {
      "image/png": "[encoded data removed]",
      "text/plain": [
       "<Figure size 576x576 with 2 Axes>"
      ]
     },
     "metadata": {
      "needs_background": "light"
     },
     "output_type": "display_data"
    }
   ],
   "source": [
    "fig, axes = plt.subplots(figsize=(8, 8))\n",
    "collection = quiver(u_exact, axes=axes, cmap='coolwarm')\n",
    "fig.colorbar(collection)\n",
    "axes.set_aspect(\"equal\")\n",
    "plt.xlabel(\"x\")\n",
    "plt.ylabel(\"y\")\n",
    "plt.show()"
   ]
  },
  {
   "cell_type": "code",
   "execution_count": 11,
   "id": "a2cb56fa",
   "metadata": {
    "cell_style": "split"
   },
   "outputs": [
    {
     "data": {
      "image/png": "[encoded data removed]",
      "text/plain": [
       "<Figure size 576x576 with 2 Axes>"
      ]
     },
     "metadata": {
      "needs_background": "light"
     },
     "output_type": "display_data"
    }
   ],
   "source": [
    "fig, axes = plt.subplots(figsize=(8, 8))\n",
    "collection = quiver(u_h, axes=axes, cmap='coolwarm')\n",
    "fig.colorbar(collection)\n",
    "axes.set_aspect(\"equal\")\n",
    "plt.xlabel(\"x\")\n",
    "plt.ylabel(\"y\")\n",
    "plt.show()"
   ]
  },
  {
   "cell_type": "markdown",
   "id": "aa0e9ff6",
   "metadata": {
    "slideshow": {
     "slide_type": "subslide"
    }
   },
   "source": [
    "## Visualizando os resultados para a pressão"
   ]
  },
  {
   "cell_type": "markdown",
   "id": "5aa24fc2",
   "metadata": {
    "cell_style": "split",
    "slideshow": {
     "slide_type": "-"
    }
   },
   "source": [
    "### Solução exata"
   ]
  },
  {
   "cell_type": "markdown",
   "id": "e09ff844",
   "metadata": {
    "cell_style": "split"
   },
   "source": [
    "### Solução numérica"
   ]
  },
  {
   "cell_type": "code",
   "execution_count": 12,
   "id": "d07f384f",
   "metadata": {
    "cell_style": "split"
   },
   "outputs": [
    {
     "data": {
      "image/png": "[encoded data removed]",
      "text/plain": [
       "<Figure size 576x576 with 2 Axes>"
      ]
     },
     "metadata": {
      "needs_background": "light"
     },
     "output_type": "display_data"
    }
   ],
   "source": [
    "fig, axes = plt.subplots(figsize=(8, 8))\n",
    "collection = tripcolor(exact_solution, axes=axes, cmap='coolwarm')\n",
    "fig.colorbar(collection)\n",
    "axes.set_aspect(\"equal\")\n",
    "plt.xlabel(\"x\")\n",
    "plt.ylabel(\"y\")\n",
    "plt.show()"
   ]
  },
  {
   "cell_type": "code",
   "execution_count": 13,
   "id": "5415503a",
   "metadata": {
    "cell_style": "split"
   },
   "outputs": [
    {
     "data": {
      "image/png": "[encoded data removed]",
      "text/plain": [
       "<Figure size 576x576 with 2 Axes>"
      ]
     },
     "metadata": {
      "needs_background": "light"
     },
     "output_type": "display_data"
    }
   ],
   "source": [
    "fig, axes = plt.subplots(figsize=(8, 8))\n",
    "collection = tripcolor(p_h, axes=axes, cmap='coolwarm')\n",
    "fig.colorbar(collection)\n",
    "axes.set_aspect(\"equal\")\n",
    "plt.xlabel(\"x\")\n",
    "plt.ylabel(\"y\")\n",
    "plt.show()"
   ]
  }
 ],
 "metadata": {
  "celltoolbar": "Slideshow",
  "kernelspec": {
   "display_name": "Python 3 (ipykernel)",
   "language": "python",
   "name": "python3"
  },
  "language_info": {
   "codemirror_mode": {
    "name": "ipython",
    "version": 3
   },
   "file_extension": ".py",
   "mimetype": "text/x-python",
   "name": "python",
   "nbconvert_exporter": "python",
   "pygments_lexer": "ipython3",
   "version": "3.8.10"
  },
  "latex_envs": {
   "LaTeX_envs_menu_present": true,
   "autoclose": false,
   "autocomplete": true,
   "bibliofile": "biblio.bib",
   "cite_by": "apalike",
   "current_citInitial": 1,
   "eqLabelWithNumbers": true,
   "eqNumInitial": 1,
   "hotkeys": {
    "equation": "Ctrl-E",
    "itemize": "Ctrl-I"
   },
   "labels_anchors": false,
   "latex_user_defs": false,
   "report_style_numbering": false,
   "user_envs_cfg": false
  }
 },
 "nbformat": 4,
 "nbformat_minor": 5
}
